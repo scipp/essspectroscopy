{
 "cells": [
  {
   "cell_type": "markdown",
   "id": "0",
   "metadata": {},
   "source": [
    "# Writing SQW for BIFROST"
   ]
  },
  {
   "cell_type": "code",
   "execution_count": null,
   "id": "1",
   "metadata": {},
   "outputs": [],
   "source": [
    "import scipp as sc\n",
    "import sciline\n",
    "from scippneutron.io import sqw\n",
    "from pathlib import Path\n",
    "import scippnexus as snx\n",
    "import numpy as np\n",
    "import scipp.constants\n",
    "import dataclasses\n",
    "\n",
    "from ess import bifrost\n",
    "from ess.bifrost.data import (\n",
    "    simulated_elastic_incoherent_with_phonon,\n",
    "    tof_lookup_table_simulation\n",
    ")\n",
    "from ess.spectroscopy.types import *"
   ]
  },
  {
   "cell_type": "code",
   "execution_count": null,
   "id": "2",
   "metadata": {},
   "outputs": [],
   "source": [
    "n_det = 3\n",
    "n_angle = 5\n",
    "\n",
    "bin_sizes = {'u1': 6, 'u2': 7, 'u3': 8, 'u4': 9}\n",
    "\n",
    "out_file = Path(\"bifrost-simulated.sqw\")\n",
    "\n",
    "# Q projections\n",
    "u = sc.vector([1, 0, 0], unit=\"1/angstrom\")\n",
    "v = sc.vector([0, 1, 0], unit=\"1/angstrom\")\n",
    "w = sc.cross(u, v)  # must be orthogonal to u and v for now"
   ]
  },
  {
   "cell_type": "code",
   "execution_count": null,
   "id": "3",
   "metadata": {},
   "outputs": [],
   "source": [
    "with snx.File(simulated_elastic_incoherent_with_phonon()) as f:\n",
    "    detector_names = list(f['entry/instrument'][snx.NXdetector])\n",
    "detector_names = detector_names[:n_det]\n",
    "\n",
    "workflow = bifrost.BifrostSimulationWorkflow(detector_names)\n",
    "workflow[Filename[SampleRun]] = simulated_elastic_incoherent_with_phonon()\n",
    "workflow[TimeOfFlightLookupTable] = sc.io.load_hdf5(tof_lookup_table_simulation())\n",
    "workflow[PreopenNeXusFile] = PreopenNeXusFile(True)\n",
    "scheduler = sciline.scheduler.NaiveScheduler()\n",
    "\n",
    "data = workflow.compute(EnergyData[SampleRun], scheduler=scheduler)\n",
    "\n",
    "data = data['a3', :n_angle].flatten(['triplet', 'tube', 'length'], 'detector')\n",
    "\n",
    "# Flatten angles and define a setting index where a3 is the fastest running index.\n",
    "n_a3 = data.sizes['a3']\n",
    "data.coords['i_a3'] = sc.arange('a3', n_a3, unit=None)\n",
    "data.coords['i_a4'] = sc.arange('a4', data.sizes['a4'], unit=None)\n",
    "data = data.flatten(['a3', 'a4'], 'setting')\n",
    "data.coords['setting'] = data.coords.pop('i_a3') + data.coords.pop('i_a4') * sc.index(n_a3)"
   ]
  },
  {
   "cell_type": "code",
   "execution_count": null,
   "id": "4",
   "metadata": {},
   "outputs": [],
   "source": [
    "data"
   ]
  },
  {
   "cell_type": "code",
   "execution_count": null,
   "id": "5",
   "metadata": {},
   "outputs": [],
   "source": [
    "index_binned = data.hist(energy_transfer=sc.linspace('energy_transfer', -0.05, 0.05, bin_sizes['u4'] + 1, unit='meV'))\n",
    "index_binned.coords['energy_transfer'] = sc.midpoints(index_binned.coords['energy_transfer'])\n",
    "index_binned.coords['ien'] = sc.arange('energy_transfer', bin_sizes['u4'], unit=None, dtype='float32')\n",
    "index_binned"
   ]
  },
  {
   "cell_type": "code",
   "execution_count": null,
   "id": "6",
   "metadata": {},
   "outputs": [],
   "source": [
    "a3 = index_binned.coords['a3']\n",
    "# idet = hist.coords['detector_number']\n",
    "en = index_binned.coords['energy_transfer']\n",
    "ef = index_binned.coords['final_energy']\n",
    "kf = index_binned.coords['final_wavevector']\n",
    "\n",
    "# should get this form the data\n",
    "bi = sc.vector([0, 0, 1])\n",
    "Ra3 = sc.spatial.rotations_from_rotvecs(-a3 * sc.vector([0, 1, 0]))\n",
    "\n",
    "ki = 2 * np.pi / sc.constants.h * sc.sqrt(2 * sc.constants.m_n * (en + ef)) * bi\n",
    "Q = Ra3 * (ki.to(unit=kf.unit) - kf)"
   ]
  },
  {
   "cell_type": "code",
   "execution_count": null,
   "id": "7",
   "metadata": {},
   "outputs": [],
   "source": [
    "Q"
   ]
  },
  {
   "cell_type": "code",
   "execution_count": null,
   "id": "8",
   "metadata": {},
   "outputs": [],
   "source": [
    "da = index_binned.copy()\n",
    "da.coords['Qx'] = Q.fields.x\n",
    "da.coords['Qy'] = Q.fields.y\n",
    "da.coords['Qz'] = Q.fields.z\n",
    "da = da.flatten(to='pix')"
   ]
  },
  {
   "cell_type": "code",
   "execution_count": null,
   "id": "9",
   "metadata": {},
   "outputs": [],
   "source": [
    "u_binned = da.bin(\n",
    "    {'energy_transfer': bin_sizes['u4'], 'Qz': bin_sizes[\"u3\"], 'Qy': bin_sizes['u2'], 'Qx': bin_sizes['u1']})\n",
    "u_binned"
   ]
  },
  {
   "cell_type": "code",
   "execution_count": null,
   "id": "10",
   "metadata": {},
   "outputs": [],
   "source": [
    "dnd = u_binned.data.rename_dims(energy_transfer='u4', Qz='u3', Qy='u2', Qx='u1')\n",
    "dnd"
   ]
  },
  {
   "cell_type": "code",
   "execution_count": null,
   "id": "11",
   "metadata": {},
   "outputs": [],
   "source": [
    "def coord_range(da: sc.DataArray, coord: str) -> sc.Variable:\n",
    "    assert sc.islinspace(da.coords[coord])\n",
    "    return sc.array(dims=[coord], values=[da.coords[coord][0].value, da.coords[coord][-1].value],\n",
    "                    unit=da.coords[coord].unit)\n",
    "\n",
    "\n",
    "img_range = [\n",
    "    coord_range(u_binned, name)\n",
    "    for name in [\"Qx\", \"Qy\", \"Qz\", \"energy_transfer\"]\n",
    "]\n",
    "\n",
    "n_bins_all_dims = sc.array(dims=[\"axis\"], values=[\n",
    "    u_binned.sizes['Qx'], u_binned.sizes['Qy'], u_binned.sizes['Qz'], u_binned.sizes['energy_transfer'],\n",
    "], unit=None)"
   ]
  },
  {
   "cell_type": "code",
   "execution_count": null,
   "id": "12",
   "metadata": {},
   "outputs": [],
   "source": [
    "# now in the correct order (?)\n",
    "in_pixel_order = u_binned.bins.concat().value\n",
    "in_pixel_order"
   ]
  },
  {
   "cell_type": "code",
   "execution_count": null,
   "id": "13",
   "metadata": {},
   "outputs": [],
   "source": [
    "# check that Q computation makes sense\n",
    "# needs input like index_binned but binned, not histogrammed\n",
    "\n",
    "# for i, pix in enumerate(da[:1000]):\n",
    "#     e_q = pix.bins.coords['sample_table_momentum_transfer'].copy().bins.concat().value\n",
    "#     out = []\n",
    "#     for dim in 'xyz':\n",
    "#         q = getattr(e_q.fields, dim)\n",
    "#         lo = q.min().value\n",
    "#         hi = q.max().value\n",
    "#         n = len(q)\n",
    "#         Q = pix.coords[f'Q{dim}'].value\n",
    "#         if n > 0:\n",
    "#             out.append(f'  {dim}: {Q: .4f} | [{lo: .4f}, {hi: .4f}]')\n",
    "#     if out:\n",
    "#         print(i)\n",
    "#         print('\\n'.join(out))"
   ]
  },
  {
   "cell_type": "code",
   "execution_count": null,
   "id": "14",
   "metadata": {},
   "outputs": [],
   "source": [
    "pix = sc.DataArray(\n",
    "    in_pixel_order.data,\n",
    "    coords={\n",
    "        'u1': in_pixel_order.coords['Qx'].to(unit='1/Å', dtype='float32', copy=False),\n",
    "        'u2': in_pixel_order.coords['Qy'].to(unit='1/Å', dtype='float32', copy=False),\n",
    "        'u3': in_pixel_order.coords['Qz'].to(unit='1/Å', dtype='float32', copy=False),\n",
    "        'u4': in_pixel_order.coords['energy_transfer'].to(unit='meV', dtype='float32', copy=False),\n",
    "        'idet': in_pixel_order.coords['detector_number'].to(dtype='float32', copy=False),\n",
    "        'irun': in_pixel_order.coords['setting'].to(dtype='float32', copy=False),\n",
    "        'ien': in_pixel_order.coords['ien'].to(dtype='float32', copy=False),\n",
    "    }\n",
    ")\n",
    "pix"
   ]
  },
  {
   "cell_type": "code",
   "execution_count": null,
   "id": "15",
   "metadata": {},
   "outputs": [],
   "source": [
    "sample = sqw.SqwIXSample(\n",
    "    name=\"Vibranium\",\n",
    "    lattice_spacing=sc.vector([2.86, 2.86, 2.86], unit=\"angstrom\"),\n",
    "    lattice_angle=sc.vector([90.0, 90.0, 90.0], unit=\"deg\"),\n",
    ")"
   ]
  },
  {
   "cell_type": "code",
   "execution_count": null,
   "id": "16",
   "metadata": {},
   "outputs": [],
   "source": [
    "dnd_metadata = sqw.SqwDndMetadata(\n",
    "    axes=sqw.SqwLineAxes(\n",
    "        title=\"My Axes\",\n",
    "        label=[\"u1\", \"u2\", \"u3\", \"u4\"],\n",
    "        img_scales=[\n",
    "            sc.scalar(1.0, unit=\"1/angstrom\"),\n",
    "            sc.scalar(1.0, unit=\"1/angstrom\"),\n",
    "            sc.scalar(1.0, unit=\"1/angstrom\"),\n",
    "            sc.scalar(1.0, unit=\"meV\"),\n",
    "        ],\n",
    "        img_range=img_range,\n",
    "        n_bins_all_dims=n_bins_all_dims,\n",
    "        single_bin_defines_iax=sc.array(dims=[\"axis\"], values=[True] * 4),\n",
    "        dax=sc.arange(\"axis\", 4, unit=None),\n",
    "        offset=[\n",
    "            sc.scalar(0.0, unit=\"1/angstrom\"),\n",
    "            sc.scalar(0.0, unit=\"1/angstrom\"),\n",
    "            sc.scalar(0.0, unit=\"1/angstrom\"),\n",
    "            sc.scalar(0.0, unit=\"meV\"),\n",
    "        ],\n",
    "        changes_aspect_ratio=True,\n",
    "    ),\n",
    "    proj=sqw.SqwLineProj(\n",
    "        title=\"My Projection\",\n",
    "        lattice_spacing=sample.lattice_spacing,\n",
    "        lattice_angle=sample.lattice_angle,\n",
    "        offset=[\n",
    "            sc.scalar(0.0, unit=\"1/angstrom\"),\n",
    "            sc.scalar(0.0, unit=\"1/angstrom\"),\n",
    "            sc.scalar(0.0, unit=\"1/angstrom\"),\n",
    "            sc.scalar(0.0, unit=\"meV\"),\n",
    "        ],\n",
    "        label=[\"u1\", \"u2\", \"u3\", \"u4\"],\n",
    "        u=u,\n",
    "        v=v,\n",
    "        w=None,\n",
    "        non_orthogonal=False,\n",
    "        type=\"aaa\",\n",
    "    ),\n",
    ")"
   ]
  },
  {
   "cell_type": "code",
   "execution_count": null,
   "id": "17",
   "metadata": {},
   "outputs": [],
   "source": [
    "instrument = sqw.SqwIXNullInstrument(\n",
    "    name=\"BIFROST\",\n",
    "    source=sqw.SqwIXSource(\n",
    "        name=\"ESS\",\n",
    "        target_name=\"Tungsten wheel\",\n",
    "        frequency=sc.scalar(14, unit=\"Hz\"),\n",
    "    ),\n",
    ")"
   ]
  },
  {
   "cell_type": "code",
   "execution_count": null,
   "id": "18",
   "metadata": {},
   "outputs": [],
   "source": [
    "multi_en = en.broadcast(sizes={'detector': data.sizes['detector'], 'energy_transfer': len(en)})\n",
    "experiment_template = sqw.SqwIXExperiment(\n",
    "    run_id=0,\n",
    "    efix=data.coords['final_energy'],\n",
    "    emode=sqw.EnergyMode.indirect,\n",
    "    en=multi_en,\n",
    "    psi=sc.scalar(0.0, unit=\"rad\"),\n",
    "    u=u,\n",
    "    v=v,\n",
    "    omega=sc.scalar(0.0, unit=\"rad\"),\n",
    "    dpsi=sc.scalar(0.0, unit=\"rad\"),\n",
    "    gl=sc.scalar(0.0, unit=\"rad\"),\n",
    "    gs=sc.scalar(0.0, unit=\"rad\"),\n",
    ")\n",
    "assert np.unique(data.coords['a4'].values).size == 1\n",
    "experiments = [\n",
    "    dataclasses.replace(experiment_template, run_id=i, psi=a3)\n",
    "    for i, a3 in enumerate(data.coords['a3'], 1)\n",
    "]"
   ]
  },
  {
   "cell_type": "code",
   "execution_count": null,
   "id": "19",
   "metadata": {},
   "outputs": [],
   "source": [
    "pix_buffer = np.c_[\n",
    "    *(pix.coords[name].values for name in ('u1', 'u2', 'u3', 'u4', 'irun', 'idet', 'ien')),\n",
    "    pix.values,\n",
    "    sc.stddevs(pix).values\n",
    "]"
   ]
  },
  {
   "cell_type": "code",
   "execution_count": null,
   "id": "20",
   "metadata": {},
   "outputs": [],
   "source": [
    "builder = sqw.Sqw.build(out_file, title=\"Simulated data with phonon (index method\").add_default_instrument(instrument)\n",
    "builder = builder.add_default_sample(sample)\n",
    "builder = builder.add_dnd_data(dnd_metadata, data=dnd.bins.sum(), counts=dnd.bins.size())\n",
    "builder = builder.add_pixel_data(pix_buffer, experiments=experiments)\n",
    "builder.create()"
   ]
  },
  {
   "cell_type": "markdown",
   "id": "21",
   "metadata": {},
   "source": [
    "Tested so far:\n",
    "\n",
    "- can load\n",
    "- shape matches\n",
    "- ranges of all u_i match"
   ]
  },
  {
   "cell_type": "markdown",
   "id": "22",
   "metadata": {},
   "source": [
    "## Test load"
   ]
  },
  {
   "cell_type": "code",
   "execution_count": null,
   "id": "23",
   "metadata": {},
   "outputs": [],
   "source": [
    "with sqw.Sqw.open(out_file) as sqw:\n",
    "    m = sqw.read_data_block(\"data\", \"metadata\")\n",
    "    d = sqw.read_data_block(\"data\", \"nd_data\")\n",
    "    l_pix = sqw.read_data_block(\"pix\", \"data_wrap\")"
   ]
  },
  {
   "cell_type": "code",
   "execution_count": null,
   "id": "24",
   "metadata": {},
   "outputs": [],
   "source": [
    "d[0].shape"
   ]
  },
  {
   "cell_type": "code",
   "execution_count": null,
   "id": "25",
   "metadata": {},
   "outputs": [],
   "source": [
    "pix"
   ]
  },
  {
   "cell_type": "code",
   "execution_count": null,
   "id": "26",
   "metadata": {},
   "outputs": [],
   "source": [
    "pix.coords['u4'].min()"
   ]
  }
 ],
 "metadata": {
  "kernelspec": {
   "display_name": "Python 3 (ipykernel)",
   "language": "python",
   "name": "python3"
  },
  "language_info": {
   "codemirror_mode": {
    "name": "ipython",
    "version": 3
   },
   "file_extension": ".py",
   "mimetype": "text/x-python",
   "name": "python",
   "nbconvert_exporter": "python",
   "pygments_lexer": "ipython3",
   "version": "3.11.10"
  }
 },
 "nbformat": 4,
 "nbformat_minor": 5
}
