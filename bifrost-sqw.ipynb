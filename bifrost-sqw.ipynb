{
 "cells": [
  {
   "cell_type": "markdown",
   "id": "0",
   "metadata": {},
   "source": [
    "# Writing SQW for BIFROST"
   ]
  },
  {
   "cell_type": "code",
   "execution_count": null,
   "id": "1",
   "metadata": {},
   "outputs": [],
   "source": [
    "import scipp as sc\n",
    "import sciline\n",
    "from scippneutron.io import sqw\n",
    "from pathlib import Path\n",
    "import scippnexus as snx\n",
    "import numpy as np\n",
    "import dataclasses\n",
    "\n",
    "from ess import bifrost\n",
    "from ess.bifrost.data import (\n",
    "    simulated_elastic_incoherent_with_phonon,\n",
    "    tof_lookup_table_simulation\n",
    ")\n",
    "from ess.spectroscopy.types import *"
   ]
  },
  {
   "cell_type": "code",
   "execution_count": null,
   "id": "2",
   "metadata": {},
   "outputs": [],
   "source": [
    "n_det = 3\n",
    "n_angle = 5\n",
    "\n",
    "bin_sizes = {'u1': 6, 'u2': 7, 'u3': 8, 'u4': 9}\n",
    "\n",
    "out_file = Path(\"bifrost-simulated.sqw\")\n",
    "\n",
    "# Q projections\n",
    "u = sc.vector([1, 0, 0], unit=\"1/angstrom\")\n",
    "v = sc.vector([0, 1, 0], unit=\"1/angstrom\")\n",
    "w = sc.cross(u, v)  # must be orthogonal to u and v for now"
   ]
  },
  {
   "cell_type": "code",
   "execution_count": null,
   "id": "3",
   "metadata": {},
   "outputs": [],
   "source": [
    "with snx.File(simulated_elastic_incoherent_with_phonon()) as f:\n",
    "    detector_names = list(f['entry/instrument'][snx.NXdetector])\n",
    "detector_names = detector_names[:n_det]\n",
    "\n",
    "workflow = bifrost.BifrostSimulationWorkflow(detector_names)\n",
    "workflow[Filename[SampleRun]] = simulated_elastic_incoherent_with_phonon()\n",
    "workflow[TimeOfFlightLookupTable] = sc.io.load_hdf5(tof_lookup_table_simulation())\n",
    "workflow[PreopenNeXusFile] = PreopenNeXusFile(True)\n",
    "scheduler = sciline.scheduler.NaiveScheduler()\n",
    "\n",
    "data = workflow.compute(EnergyData[SampleRun], scheduler=scheduler)\n",
    "\n",
    "data = data['a3', :n_angle].flatten(['triplet', 'tube', 'length'], 'detector')"
   ]
  },
  {
   "cell_type": "code",
   "execution_count": null,
   "id": "4",
   "metadata": {},
   "outputs": [],
   "source": [
    "settings = sc.DataArray(\n",
    "    sc.arange('s', data.sizes['a3']*data.sizes['a4'], unit=None).fold('s', sizes={'a3': data.sizes['a3'], 'a4': data.sizes['a4']}),\n",
    "    coords={\n",
    "        'a3': data.coords['a3'],\n",
    "        'a4': data.coords['a4'],\n",
    "    }\n",
    ").flatten(to='setting')"
   ]
  },
  {
   "cell_type": "code",
   "execution_count": null,
   "id": "5",
   "metadata": {},
   "outputs": [],
   "source": [
    "def project_onto(direction, vec):\n",
    "    return sc.dot(direction / sc.norm(direction), vec)\n",
    "\n",
    "aux = (data\n",
    "            .flatten(['a3', 'a4'], 'setting')\n",
    "            # Split into two calls because of https://github.com/scipp/scipp/issues/3766\n",
    "            .transform_coords(\n",
    "                u1=lambda sample_table_momentum_transfer: project_onto(u, sample_table_momentum_transfer),\n",
    "                u2=lambda sample_table_momentum_transfer: project_onto(v, sample_table_momentum_transfer),\n",
    "                u3=lambda sample_table_momentum_transfer: project_onto(w, sample_table_momentum_transfer),\n",
    "                keep_inputs=False,\n",
    "            ).transform_coords(u4=\"energy_transfer\", keep_inputs=False)\n",
    "            .bins.drop_coords(['incident_energy', 'incident_wavelength', 'lab_momentum_transfer'])\n",
    "            .drop_coords(['a3', 'a4', 'secondary_flight_time'])\n",
    "         )\n",
    "binned = (aux\n",
    "          .bins.assign_coords({\n",
    "            'setting': sc.bins_like(aux, settings.data),\n",
    "            'detector_number': sc.bins_like(aux, aux.coords.pop('detector_number')),\n",
    "          })\n",
    "          .bins.concat()\n",
    "          .bin(bin_sizes)\n",
    "          )"
   ]
  },
  {
   "cell_type": "code",
   "execution_count": null,
   "id": "6",
   "metadata": {},
   "outputs": [],
   "source": [
    "def coord_range(da: sc.DataArray, coord: str) -> sc.Variable:\n",
    "    assert sc.islinspace(da.coords[coord])\n",
    "    return sc.array(dims=[coord], values=[da.coords[coord][0].value, da.coords[coord][-1].value],\n",
    "                    unit=da.coords[coord].unit)"
   ]
  },
  {
   "cell_type": "code",
   "execution_count": null,
   "id": "7",
   "metadata": {},
   "outputs": [],
   "source": [
    "sample = sqw.SqwIXSample(\n",
    "    name=\"Vibranium\",\n",
    "    lattice_spacing=sc.vector([2.86, 2.86, 2.86], unit=\"angstrom\"),\n",
    "    lattice_angle=sc.vector([90.0, 90.0, 90.0], unit=\"deg\"),\n",
    ")"
   ]
  },
  {
   "cell_type": "code",
   "execution_count": null,
   "id": "8",
   "metadata": {},
   "outputs": [],
   "source": [
    "dnd_metadata = sqw.SqwDndMetadata(\n",
    "    axes=sqw.SqwLineAxes(\n",
    "        title=\"My Axes\",\n",
    "        label=[\"u1\", \"u2\", \"u3\", \"u4\"],\n",
    "        img_scales=[\n",
    "            sc.scalar(1.0, unit=\"1/angstrom\"),\n",
    "            sc.scalar(1.0, unit=\"1/angstrom\"),\n",
    "            sc.scalar(1.0, unit=\"1/angstrom\"),\n",
    "            sc.scalar(1.0, unit=\"meV\"),\n",
    "        ],\n",
    "        img_range=[\n",
    "            coord_range(binned, name)\n",
    "            for name in [\"u1\", \"u2\", \"u3\", \"u4\"]\n",
    "        ],\n",
    "        n_bins_all_dims=sc.array(dims=[\"axis\"], values=[binned.sizes[f'u{i}'] for i in range(1, 5)], unit=None),\n",
    "        single_bin_defines_iax=sc.array(dims=[\"axis\"], values=[True] * 4),\n",
    "        dax=sc.arange(\"axis\", 4, unit=None),\n",
    "        offset=[\n",
    "            sc.scalar(0.0, unit=\"1/angstrom\"),\n",
    "            sc.scalar(0.0, unit=\"1/angstrom\"),\n",
    "            sc.scalar(0.0, unit=\"1/angstrom\"),\n",
    "            sc.scalar(0.0, unit=\"meV\"),\n",
    "        ],\n",
    "        changes_aspect_ratio=True,\n",
    "    ),\n",
    "    proj=sqw.SqwLineProj(\n",
    "        title=\"My Projection\",\n",
    "        lattice_spacing=sample.lattice_spacing,\n",
    "        lattice_angle=sample.lattice_angle,\n",
    "        offset=[\n",
    "            sc.scalar(0.0, unit=\"1/angstrom\"),\n",
    "            sc.scalar(0.0, unit=\"1/angstrom\"),\n",
    "            sc.scalar(0.0, unit=\"1/angstrom\"),\n",
    "            sc.scalar(0.0, unit=\"meV\"),\n",
    "        ],\n",
    "        label=[\"u1\", \"u2\", \"u3\", \"u4\"],\n",
    "        u=u,\n",
    "        v=v,\n",
    "        w=None,\n",
    "        non_orthogonal=False,\n",
    "        type=\"aaa\",\n",
    "    ),\n",
    ")"
   ]
  },
  {
   "cell_type": "code",
   "execution_count": null,
   "id": "9",
   "metadata": {},
   "outputs": [],
   "source": [
    "dnd_metadata.axes.img_range"
   ]
  },
  {
   "cell_type": "code",
   "execution_count": null,
   "id": "10",
   "metadata": {},
   "outputs": [],
   "source": [
    "instrument = sqw.SqwIXNullInstrument(\n",
    "    name=\"BIFROST\",\n",
    "    source=sqw.SqwIXSource(\n",
    "        name=\"ESS\",\n",
    "        target_name=\"Tungsten wheel\",\n",
    "        frequency=sc.scalar(14, unit=\"Hz\"),\n",
    "    ),\n",
    ")"
   ]
  },
  {
   "cell_type": "code",
   "execution_count": null,
   "id": "11",
   "metadata": {},
   "outputs": [],
   "source": [
    "en = binned.coords['u4'].broadcast(sizes={'detector': data.sizes['detector'], 'u4': len(binned.coords['u4'])}).rename(u4='energy_transfer')\n",
    "experiment_template = sqw.SqwIXExperiment(\n",
    "    run_id=0,\n",
    "    efix=data.coords['final_energy'],\n",
    "    emode=sqw.EnergyMode.indirect,\n",
    "    en=en,\n",
    "    psi=sc.scalar(0.0, unit=\"rad\"),\n",
    "    u=u,\n",
    "    v=v,\n",
    "    omega=sc.scalar(0.0, unit=\"rad\"),\n",
    "    dpsi=sc.scalar(0.0, unit=\"rad\"),\n",
    "    gl=sc.scalar(0.0, unit=\"rad\"),\n",
    "    gs=sc.scalar(0.0, unit=\"rad\"),\n",
    ")\n",
    "assert np.unique(data.coords['a4'].values).size == 1\n",
    "experiments = [\n",
    "    dataclasses.replace(experiment_template, run_id=i, psi=a3)\n",
    "    for i, a3 in enumerate(data.coords['a3'])\n",
    "]"
   ]
  },
  {
   "cell_type": "code",
   "execution_count": null,
   "id": "12",
   "metadata": {},
   "outputs": [],
   "source": [
    "binned"
   ]
  },
  {
   "cell_type": "code",
   "execution_count": null,
   "id": "13",
   "metadata": {},
   "outputs": [],
   "source": [
    "# TODO add 0 observations\n",
    "#  we lose some bins in the above binning processes, e.g., here, idet is only a subset of all detector numbers"
   ]
  },
  {
   "cell_type": "code",
   "execution_count": null,
   "id": "14",
   "metadata": {},
   "outputs": [],
   "source": [
    "observations = binned.copy().drop_coords(['sample_position', 'source_position'])\n",
    "observations = observations.bins.assign_coords(\n",
    "    {\n",
    "        'idet': observations.bins.coords.pop('detector_number').to(dtype='float32'),\n",
    "        'irun': observations.bins.coords.pop('setting').to(dtype='float32'),\n",
    "    }\n",
    ")\n",
    "observations = observations.assign_coords(\n",
    "    {\n",
    "        f'u{i}': sc.midpoints(observations.coords.pop(f'u{i}')).to(dtype='float32', copy=False)\n",
    "        for i in range(1, 5)\n",
    "    }\n",
    ")\n",
    "observations.coords['ien'] = sc.arange('u4', observations.sizes['u4'], dtype='float32', unit=None)\n",
    "observations"
   ]
  },
  {
   "cell_type": "code",
   "execution_count": null,
   "id": "15",
   "metadata": {},
   "outputs": [],
   "source": [
    "buffer = None\n",
    "\n",
    "def get_buffer(n: int):\n",
    "    global buffer\n",
    "    if buffer is None or buffer.shape[0] < n:\n",
    "        buffer = np.empty((n, 9), dtype=np.float32)\n",
    "        return buffer\n",
    "    return buffer[:n]\n",
    "\n",
    "buffers = []\n",
    "for obs_bin in observations.flatten(to='u'):\n",
    "    h = obs_bin.group('idet', 'irun').hist()\n",
    "    n = h.sizes['idet'] * h.sizes['irun']\n",
    "    h = h.flatten(to='obs')\n",
    "    buf = get_buffer(n)\n",
    "    buf[:, 0] = h.coords['u1'].values\n",
    "    buf[:, 1] = h.coords['u2'].values\n",
    "    buf[:, 2] = h.coords['u3'].values\n",
    "    buf[:, 3] = h.coords['u4'].values\n",
    "    buf[:, 4] = h.coords['irun'].values\n",
    "    buf[:, 5] = h.coords['idet'].values\n",
    "    buf[:, 6] = h.coords['ien'].values\n",
    "    buf[:, 7] = h.values\n",
    "    buf[:, 8] = sc.stddevs(h).values\n",
    "    buffers.append(buf.copy())\n",
    "\n",
    "pix_buffer = np.concat(buffers, axis=0)"
   ]
  },
  {
   "cell_type": "code",
   "execution_count": null,
   "id": "16",
   "metadata": {},
   "outputs": [],
   "source": [
    "bin_sizes = sc.array(dims=['u'], values=[buf.shape[0] for buf in buffers], unit=None)\n",
    "bin_sizes = bin_sizes.fold(dim='u', sizes=observations.sizes)"
   ]
  },
  {
   "cell_type": "code",
   "execution_count": null,
   "id": "17",
   "metadata": {},
   "outputs": [],
   "source": [
    "builder = sqw.Sqw.build(out_file, title=\"Simulated data with phonon\").add_default_instrument(instrument).add_default_sample(sample)\n",
    "builder = builder.add_dnd_data(dnd_metadata, data=observations.hist().data, counts=bin_sizes)\n",
    "builder = builder.add_pixel_data(pix_buffer, experiments=experiments)\n",
    "builder.create()"
   ]
  },
  {
   "cell_type": "code",
   "execution_count": null,
   "id": "18",
   "metadata": {},
   "outputs": [],
   "source": [
    "with sqw.Sqw.open(out_file) as f:\n",
    "    print(f.data_block_names())\n",
    "    d = f.read_data_block('data', \"nd_data\")"
   ]
  },
  {
   "cell_type": "code",
   "execution_count": null,
   "id": "19",
   "metadata": {},
   "outputs": [],
   "source": [
    "d[0].shape"
   ]
  },
  {
   "cell_type": "code",
   "execution_count": null,
   "id": "20",
   "metadata": {},
   "outputs": [],
   "source": [
    "binned.hist().data['u1', 3]['u2', 6]['u3', 1]['u4', 0]"
   ]
  },
  {
   "cell_type": "code",
   "execution_count": null,
   "id": "21",
   "metadata": {},
   "outputs": [],
   "source": [
    "# TODO The dim order is reversed.\n",
    "# Seems wrong, I thought we handled transposition properly now?!\n",
    "d[0][0][1][6][3]"
   ]
  },
  {
   "cell_type": "code",
   "execution_count": null,
   "id": "22",
   "metadata": {},
   "outputs": [],
   "source": [
    "d[0][3][6][1][0]"
   ]
  },
  {
   "cell_type": "code",
   "execution_count": null,
   "id": "23",
   "metadata": {},
   "outputs": [],
   "source": [
    "np.nonzero(d[0] == 127.0)"
   ]
  }
 ],
 "metadata": {
  "kernelspec": {
   "display_name": "Python 3 (ipykernel)",
   "language": "python",
   "name": "python3"
  },
  "language_info": {
   "codemirror_mode": {
    "name": "ipython",
    "version": 3
   },
   "file_extension": ".py",
   "mimetype": "text/x-python",
   "name": "python",
   "nbconvert_exporter": "python",
   "pygments_lexer": "ipython3",
   "version": "3.11.10"
  }
 },
 "nbformat": 4,
 "nbformat_minor": 5
}
