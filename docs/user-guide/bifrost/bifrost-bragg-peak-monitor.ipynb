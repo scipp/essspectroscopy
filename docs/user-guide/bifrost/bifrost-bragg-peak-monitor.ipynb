{
 "cells": [
  {
   "cell_type": "markdown",
   "id": "0",
   "metadata": {},
   "source": [
    "# BIFROST Bragg peak monitor"
   ]
  },
  {
   "cell_type": "code",
   "execution_count": null,
   "id": "1",
   "metadata": {},
   "outputs": [],
   "source": [
    "from ess.bifrost.single_crystal import BifrostBraggPeakMonitorWorkflow\n",
    "from ess.spectroscopy.types import *\n",
    "from ess.bifrost.types import McStasDetectorData\n",
    "from ess.bifrost.data import simulated_elastic_incoherent_with_phonon, tof_lookup_table_simulation\n",
    "from ess.reduce.nexus.types import NeXusDetectorName\n",
    "from ess.reduce.time_of_flight import DetectorLtotal\n",
    "import scippnexus as snx\n",
    "from ess.bifrost.single_crystal.types import *"
   ]
  },
  {
   "cell_type": "code",
   "execution_count": null,
   "id": "2",
   "metadata": {},
   "outputs": [],
   "source": [
    "workflow = BifrostBraggPeakMonitorWorkflow()\n",
    "workflow[Filename[SampleRun]] = simulated_elastic_incoherent_with_phonon()\n",
    "workflow[TimeOfFlightLookupTableFilename] = tof_lookup_table_simulation()\n",
    "\n",
    "workflow[QBinsParallel] = sc.linspace('Q_parallel', -3, 3, 200, unit='1/Å')\n",
    "workflow[QBinsPerpendicular] = sc.linspace('Q_perpendicular', -3, 3, 200, unit='1/Å')"
   ]
  },
  {
   "cell_type": "code",
   "execution_count": null,
   "id": "3",
   "metadata": {},
   "outputs": [],
   "source": [
    "# Load an inelastic detector as we don't have an actual bragg peak monitor in the file.\n",
    "workflow[NeXusDetectorName] = \"309_channel_9_5_triplet\"\n",
    "\n",
    "\n",
    "def assemble_detector_data_flatten(\n",
    "        detector: CalibratedBeamline[RunType],\n",
    "        data: NeXusData[snx.NXdetector, RunType],\n",
    ") -> McStasDetectorData[RunType]:\n",
    "    from ess.reduce.nexus.workflow import assemble_detector_data as assemble\n",
    "    base = assemble(detector, data)\n",
    "\n",
    "    # The monitor only has one pixel, so combine all pixels from the selected bank:\n",
    "    monitor = base.bins.concat()\n",
    "    monitor.coords['detector_number'] = sc.index(0)\n",
    "    # Halfway between the bank and the sample:\n",
    "    monitor.coords['position'] = base.coords['position'].mean() / 2\n",
    "    return McStasDetectorData[RunType](monitor)\n",
    "\n",
    "\n",
    "def detector_ltotal_from_straight_line_approximation(\n",
    "        detector_beamline: DetectorData[RunType],\n",
    ") -> DetectorLtotal[RunType]:\n",
    "    from ess.reduce.time_of_flight import eto_to_tof\n",
    "    return eto_to_tof.detector_ltotal_from_straight_line_approximation(\n",
    "        detector_beamline  # type: ignore[arg-type]\n",
    "    )\n",
    "\n",
    "\n",
    "workflow.insert(assemble_detector_data_flatten)\n",
    "workflow.insert(detector_ltotal_from_straight_line_approximation)"
   ]
  },
  {
   "cell_type": "code",
   "execution_count": null,
   "id": "4",
   "metadata": {},
   "outputs": [],
   "source": [
    "workflow.visualize(QMap[SampleRun], graph_attr={\"rankdir\": \"LR\"})"
   ]
  },
  {
   "cell_type": "code",
   "execution_count": null,
   "id": "5",
   "metadata": {},
   "outputs": [],
   "source": [
    "da = workflow.compute(QMap[SampleRun])"
   ]
  },
  {
   "cell_type": "code",
   "execution_count": null,
   "id": "6",
   "metadata": {},
   "outputs": [],
   "source": [
    "da"
   ]
  },
  {
   "cell_type": "code",
   "execution_count": null,
   "id": "7",
   "metadata": {},
   "outputs": [],
   "source": [
    "da.hist().plot(norm='log')"
   ]
  },
  {
   "cell_type": "code",
   "execution_count": null,
   "id": "8",
   "metadata": {},
   "outputs": [],
   "source": [
    "da.bins.coords['Q'].min()"
   ]
  },
  {
   "cell_type": "code",
   "execution_count": null,
   "id": "9",
   "metadata": {},
   "outputs": [],
   "source": [
    "da.bins.coords['Q'].max()"
   ]
  },
  {
   "cell_type": "code",
   "execution_count": null,
   "id": "10",
   "metadata": {},
   "outputs": [],
   "source": [
    "da.bins.concat().bin(Q=sc.linspace('Q', 2.6, 2.7, 100, unit='1/Å')).bins.concat().hist(a3=180).plot()"
   ]
  }
 ],
 "metadata": {
  "kernelspec": {
   "display_name": "Python 3",
   "language": "python",
   "name": "python3"
  },
  "language_info": {
   "codemirror_mode": {
    "name": "ipython",
    "version": 2
   },
   "file_extension": ".py",
   "mimetype": "text/x-python",
   "name": "python",
   "nbconvert_exporter": "python",
   "pygments_lexer": "ipython2",
   "version": "2.7.6"
  }
 },
 "nbformat": 4,
 "nbformat_minor": 5
}
