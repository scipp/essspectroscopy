{
 "cells": [
  {
   "cell_type": "markdown",
   "id": "0",
   "metadata": {},
   "source": [
    "# BIFROST Bragg peak monitor\n",
    "\n",
    "This notebook demonstrates how to process data for BIFROST's Bragg peak monitor.\n",
    "It uses a dedicated single crystal diffraction workflow to construct a map in Q and an interactive slicer plot."
   ]
  },
  {
   "cell_type": "code",
   "execution_count": null,
   "id": "1",
   "metadata": {},
   "outputs": [],
   "source": [
    "import scippnexus as snx\n",
    "\n",
    "from ess.bifrost.data import (\n",
    "    simulated_elastic_incoherent_with_phonon,\n",
    "    tof_lookup_table_simulation,\n",
    ")\n",
    "from ess.bifrost.single_crystal import BifrostBraggPeakMonitorWorkflow, make_q_map\n",
    "from ess.bifrost.single_crystal.types import *\n",
    "from ess.bifrost.types import McStasDetectorData\n",
    "from ess.reduce.time_of_flight import DetectorLtotal\n",
    "from ess.spectroscopy.types import *"
   ]
  },
  {
   "cell_type": "code",
   "execution_count": null,
   "id": "2",
   "metadata": {},
   "outputs": [],
   "source": [
    "%matplotlib widget"
   ]
  },
  {
   "cell_type": "markdown",
   "id": "3",
   "metadata": {},
   "source": [
    "Build a workflow for processing the data:"
   ]
  },
  {
   "cell_type": "code",
   "execution_count": null,
   "id": "4",
   "metadata": {},
   "outputs": [],
   "source": [
    "workflow = BifrostBraggPeakMonitorWorkflow()\n",
    "workflow[Filename[SampleRun]] = simulated_elastic_incoherent_with_phonon()\n",
    "workflow[TimeOfFlightLookupTableFilename] = tof_lookup_table_simulation()"
   ]
  },
  {
   "cell_type": "markdown",
   "id": "5",
   "metadata": {},
   "source": [
    "<div class=\"alert alert-warning\">\n",
    "\n",
    "**Attention**\n",
    "\n",
    "The current tests data does not contain a bragg peak monitor.\n",
    "So we instead use a bank ('triplet') of the regular inelastic detector.\n",
    "This means that the workflow can run, but the results don't show any bragg peaks.\n",
    "\n",
    "</div>"
   ]
  },
  {
   "cell_type": "code",
   "execution_count": null,
   "id": "6",
   "metadata": {},
   "outputs": [],
   "source": [
    "workflow[NeXusDetectorName] = \"309_channel_9_5_triplet\"\n",
    "\n",
    "\n",
    "def assemble_detector_data_flatten(\n",
    "    detector: CalibratedBeamline[RunType],\n",
    "    data: NeXusData[snx.NXdetector, RunType],\n",
    ") -> McStasDetectorData[RunType]:\n",
    "    from ess.reduce.nexus.workflow import assemble_detector_data as assemble\n",
    "    base = assemble(detector, data)\n",
    "\n",
    "    # The monitor only has one pixel, so combine all pixels from the selected bank:\n",
    "    monitor = base.bins.concat()\n",
    "    monitor.coords['detector_number'] = sc.index(0)\n",
    "    # Halfway between the bank and the sample:\n",
    "    monitor.coords['position'] = base.coords['position'].mean() / 2\n",
    "    # Zero out the y-component because the monitor is in the sample plane:\n",
    "    monitor.coords['position'].fields.y = sc.scalar(0.0, unit=monitor.coords['position'].unit)\n",
    "    return McStasDetectorData[RunType](monitor)\n",
    "\n",
    "\n",
    "def detector_ltotal_from_straight_line_approximation(\n",
    "    detector_beamline: DetectorData[RunType],\n",
    ") -> DetectorLtotal[RunType]:\n",
    "    from ess.reduce.time_of_flight import eto_to_tof\n",
    "    return eto_to_tof.detector_ltotal_from_straight_line_approximation(\n",
    "        detector_beamline  # type: ignore[arg-type]\n",
    "    )\n",
    "\n",
    "\n",
    "workflow.insert(assemble_detector_data_flatten)\n",
    "workflow.insert(detector_ltotal_from_straight_line_approximation)"
   ]
  },
  {
   "cell_type": "code",
   "execution_count": null,
   "id": "7",
   "metadata": {},
   "outputs": [],
   "source": [
    "workflow.visualize(CountsWithQMapCoords[SampleRun], graph_attr={\"rankdir\": \"LR\"})"
   ]
  },
  {
   "cell_type": "markdown",
   "id": "8",
   "metadata": {},
   "source": [
    "Compute the data projected onto Q:"
   ]
  },
  {
   "cell_type": "code",
   "execution_count": null,
   "id": "9",
   "metadata": {},
   "outputs": [],
   "source": [
    "counts = workflow.compute(CountsWithQMapCoords[SampleRun])"
   ]
  },
  {
   "cell_type": "markdown",
   "id": "10",
   "metadata": {},
   "source": [
    "Make an interactive figure.\n",
    "Use the slider to select a range in $Q$ to integrate over and display in the 1D figure."
   ]
  },
  {
   "cell_type": "code",
   "execution_count": null,
   "id": "11",
   "metadata": {},
   "outputs": [],
   "source": [
    "make_q_map(counts,\n",
    "    q_parallel_bins=sc.linspace('Q_parallel', -3, 3, 200, unit='1/Å'),\n",
    "    q_perpendicular_bins=sc.linspace('Q_perpendicular', -3, 3, 200, unit='1/Å'),\n",
    "    sample_rotation_bins=180,\n",
    ")"
   ]
  }
 ],
 "metadata": {
  "kernelspec": {
   "display_name": "Python 3 (ipykernel)",
   "language": "python",
   "name": "python3"
  },
  "language_info": {
   "codemirror_mode": {
    "name": "ipython",
    "version": 3
   },
   "file_extension": ".py",
   "mimetype": "text/x-python",
   "name": "python",
   "nbconvert_exporter": "python",
   "pygments_lexer": "ipython3",
   "version": "3.11.10"
  }
 },
 "nbformat": 4,
 "nbformat_minor": 5
}
