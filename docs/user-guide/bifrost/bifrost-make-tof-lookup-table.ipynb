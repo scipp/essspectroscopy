{
 "cells": [
  {
   "cell_type": "markdown",
   "id": "0",
   "metadata": {},
   "source": [
    "# Create a time-of-flight lookup table for BIFROST\n",
    "\n",
    "This notebook shows how to create a time-of-flight lookup table for frame unwrapping at BIFROST."
   ]
  },
  {
   "cell_type": "code",
   "execution_count": null,
   "id": "1",
   "metadata": {},
   "outputs": [],
   "source": [
    "from ess.reduce import nexus\n",
    "import sciline\n",
    "import scipp as sc\n",
    "import scippnexus as snx\n",
    "from ess.reduce.nexus.types import RawChoppers, DiskChoppers\n",
    "from ess.reduce.time_of_flight.lut import (\n",
    "    LtotalRange,\n",
    "    NumberOfSimulatedNeutrons,\n",
    "    SourcePosition,\n",
    "    TofLookupTableWorkflow,\n",
    ")\n",
    "from scippneutron.chopper import DiskChopper\n",
    "\n",
    "from ess.bifrost import BifrostSimulationWorkflow\n",
    "from ess.bifrost.data import simulated_elastic_incoherent_with_phonon\n",
    "from ess.spectroscopy.types import *"
   ]
  },
  {
   "cell_type": "markdown",
   "id": "2",
   "metadata": {},
   "source": [
    "## Load and process beamline parameters\n",
    "\n",
    "First, load all required beamline parameters from an input NeXus file.\n",
    "We only need to know the geometry up to the sample which is the same for all banks, so choosing a single detector is enough."
   ]
  },
  {
   "cell_type": "code",
   "execution_count": null,
   "id": "3",
   "metadata": {},
   "outputs": [],
   "source": [
    "input_filename = simulated_elastic_incoherent_with_phonon()\n",
    "with snx.File(input_filename) as f:\n",
    "    detector_names = list(f['entry/instrument'][snx.NXdetector])"
   ]
  },
  {
   "cell_type": "code",
   "execution_count": null,
   "id": "4",
   "metadata": {},
   "outputs": [],
   "source": [
    "bifrost_workflow = BifrostSimulationWorkflow(detector_names)\n",
    "bifrost_workflow[Filename[SampleRun]] = input_filename\n",
    "\n",
    "M = nexus.types.CalibratedMonitor[SampleRun, FrameMonitor3]\n",
    "C = RawChoppers[SampleRun]\n",
    "choppers, monitor = bifrost_workflow.compute((C, M)).values()\n",
    "beamline = sciline.compute_mapped(bifrost_workflow, BeamlineWithSpectrometerCoords[SampleRun])[0]"
   ]
  },
  {
   "cell_type": "markdown",
   "id": "5",
   "metadata": {},
   "source": [
    "Compute the required distance range to include the monitor and sample:"
   ]
  },
  {
   "cell_type": "code",
   "execution_count": null,
   "id": "6",
   "metadata": {},
   "outputs": [],
   "source": [
    "l_monitor = sc.norm(monitor.coords['source_position'] - monitor.coords['position'])\n",
    "l_min = l_monitor\n",
    "l_max = beamline.coords['L1']"
   ]
  },
  {
   "cell_type": "markdown",
   "id": "7",
   "metadata": {},
   "source": [
    "The choppers in the simulated file need to be processed before they can be used for computing a lookup table.\n",
    "The following works for the specific simulation but is **not** usable in general."
   ]
  },
  {
   "cell_type": "code",
   "execution_count": null,
   "id": "8",
   "metadata": {},
   "outputs": [],
   "source": [
    "def extract_chopper_plateau(chopper):\n",
    "    processed = chopper.copy()\n",
    "    # These are constant in the simulated data.\n",
    "    processed['rotation_speed'] = processed['rotation_speed'].data.mean()\n",
    "    processed['phase'] = processed['phase'].data.mean()\n",
    "    # Guessing here as this is not stored in the file.\n",
    "    processed['beam_position'] = sc.scalar(0.0, unit='deg')\n",
    "    return DiskChopper.from_nexus(processed)\n",
    "\n",
    "\n",
    "disk_choppers = choppers.apply(extract_chopper_plateau)"
   ]
  },
  {
   "cell_type": "markdown",
   "id": "9",
   "metadata": {},
   "source": [
    "## Compute the lookup table"
   ]
  },
  {
   "cell_type": "markdown",
   "id": "10",
   "metadata": {},
   "source": [
    "Construct a lookup table workflow:"
   ]
  },
  {
   "cell_type": "code",
   "execution_count": null,
   "id": "11",
   "metadata": {},
   "outputs": [],
   "source": [
    "workflow = TofLookupTableWorkflow()\n",
    "workflow[DiskChoppers] = disk_choppers\n",
    "workflow[LtotalRange] = (l_min, l_max)\n",
    "workflow[SourcePosition] = beamline.coords['source_position']\n",
    "\n",
    "# Increase this number for more reliable results:\n",
    "workflow[NumberOfSimulatedNeutrons] = 200_000"
   ]
  },
  {
   "cell_type": "code",
   "execution_count": null,
   "id": "12",
   "metadata": {},
   "outputs": [],
   "source": [
    "workflow.visualize(TimeOfFlightLookupTable, graph_attr={\"rankdir\": \"LR\"})"
   ]
  },
  {
   "cell_type": "markdown",
   "id": "13",
   "metadata": {},
   "source": [
    "Compute a lookup table:"
   ]
  },
  {
   "cell_type": "code",
   "execution_count": null,
   "id": "14",
   "metadata": {},
   "outputs": [],
   "source": [
    "table = workflow.compute(TimeOfFlightLookupTable)\n",
    "table"
   ]
  },
  {
   "cell_type": "code",
   "execution_count": null,
   "id": "15",
   "metadata": {},
   "outputs": [],
   "source": [
    "table.plot()"
   ]
  },
  {
   "cell_type": "markdown",
   "id": "16",
   "metadata": {},
   "source": [
    "## Save to file"
   ]
  },
  {
   "cell_type": "code",
   "execution_count": null,
   "id": "17",
   "metadata": {},
   "outputs": [],
   "source": [
    "table.save_hdf5('BIFROST-simulation-tof-lookup-table.h5')"
   ]
  }
 ],
 "metadata": {
  "kernelspec": {
   "display_name": "Python 3 (ipykernel)",
   "language": "python",
   "name": "python3"
  },
  "language_info": {
   "codemirror_mode": {
    "name": "ipython",
    "version": 3
   },
   "file_extension": ".py",
   "mimetype": "text/x-python",
   "name": "python",
   "nbconvert_exporter": "python",
   "pygments_lexer": "ipython3",
   "version": "3.11.10"
  }
 },
 "nbformat": 4,
 "nbformat_minor": 5
}
