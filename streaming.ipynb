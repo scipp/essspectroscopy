{
 "cells": [
  {
   "cell_type": "code",
   "execution_count": null,
   "id": "0",
   "metadata": {},
   "outputs": [],
   "source": [
    "import scipp as sc\n",
    "import sciline\n",
    "import matplotlib.pyplot as plt\n",
    "import time\n",
    "from ess import bifrost\n",
    "from ess.bifrost.data import (\n",
    "    simulated_elastic_incoherent_with_phonon,\n",
    "    tof_lookup_table_simulation\n",
    ")\n",
    "from ess.spectroscopy.types import *\n",
    "import scippnexus as snx\n",
    "from ess.bifrost.live import BIFROSTQCutWorkflow, CutAxis, CutAxis1, CutAxis2, CutData, BIFROSTQCutStreamProcessor"
   ]
  },
  {
   "cell_type": "code",
   "execution_count": null,
   "id": "1",
   "metadata": {},
   "outputs": [],
   "source": [
    "%matplotlib widget"
   ]
  },
  {
   "cell_type": "code",
   "execution_count": null,
   "id": "2",
   "metadata": {},
   "outputs": [],
   "source": [
    "fname = simulated_elastic_incoherent_with_phonon()\n",
    "with snx.File(fname) as f:\n",
    "    detector_names = list(f['entry/instrument'][snx.NXdetector])\n",
    "detector_names = detector_names[:2]"
   ]
  },
  {
   "cell_type": "code",
   "execution_count": null,
   "id": "3",
   "metadata": {},
   "outputs": [],
   "source": [
    "workflow = BIFROSTQCutWorkflow(detector_names)\n",
    "workflow[Filename[SampleRun]] = simulated_elastic_incoherent_with_phonon()\n",
    "workflow[TimeOfFlightLookupTableFilename] = tof_lookup_table_simulation()\n",
    "workflow[PreopenNeXusFile] = PreopenNeXusFile(True)\n",
    "\n",
    "# workflow[CutAxis1] = CutAxis.from_q_vector(\n",
    "#     output=\"Qx\",\n",
    "#     vec=sc.vector([1, 0, 0]),\n",
    "#     bins=sc.linspace('Qx', -3.0, 3.0, 300, unit='1/Å')\n",
    "# )\n",
    "# workflow[CutAxis2] = CutAxis.from_q_vector(\n",
    "#     output=\"Qz\",\n",
    "#     vec=sc.vector([0, 0, 1]),\n",
    "#     bins=sc.linspace('Qz', -3.0, 3.0, 300, unit='1/Å')\n",
    "# )\n",
    "\n",
    "workflow[CutAxis1] = CutAxis(\n",
    "    output=\"|Q|\",\n",
    "    fn=lambda sample_table_momentum_transfer: sc.norm(sample_table_momentum_transfer),\n",
    "    bins=sc.linspace('|Q|', 0.9, 3.0, 300, unit='1/Å')\n",
    ")\n",
    "workflow[CutAxis2] = CutAxis(\n",
    "    output=\"E\",\n",
    "    fn=lambda energy_transfer: energy_transfer,\n",
    "    bins=sc.linspace('E', -0.1, 0.1, 300, unit='meV')\n",
    ")"
   ]
  },
  {
   "cell_type": "code",
   "execution_count": null,
   "id": "4",
   "metadata": {},
   "outputs": [],
   "source": [
    "workflow.visualize(CutData[SampleRun], graph_attr={\"rankdir\": \"LR\"}, compact=True)"
   ]
  },
  {
   "cell_type": "code",
   "execution_count": null,
   "id": "5",
   "metadata": {},
   "outputs": [],
   "source": [
    "scheduler = sciline.scheduler.NaiveScheduler()\n",
    "results = workflow.compute([NeXusData[snx.NXdetector, SampleRun], InstrumentAngles[SampleRun]],\n",
    "                           scheduler=scheduler)\n",
    "base_data = results[NeXusData[snx.NXdetector, SampleRun]]\n",
    "angles = results[InstrumentAngles[SampleRun]]"
   ]
  },
  {
   "cell_type": "code",
   "execution_count": null,
   "id": "6",
   "metadata": {},
   "outputs": [],
   "source": [
    "angles['a3']"
   ]
  },
  {
   "cell_type": "code",
   "execution_count": null,
   "id": "7",
   "metadata": {},
   "outputs": [],
   "source": [
    "# This is similar to `group_by_rotation` but preserves the event_time_zero coord and dim.\n",
    "# The elements of `angle_groups` look like NeXusData.\n",
    "# For simplicity, it assumes that there is only one a4 value.\n",
    "a3 = sc.lookup(angles['a3'], 'time')\n",
    "a4 = sc.lookup(angles['a4'], 'time')\n",
    "graph = {\n",
    "    'a3': lambda event_time_zero: a3[event_time_zero],\n",
    "    'a4': lambda event_time_zero: a4[event_time_zero],\n",
    "}\n",
    "d = base_data.bins.assign_coords({'event_time_zero': sc.bins_like(base_data.data, base_data.coords['event_time_zero'])})\n",
    "grouped = d.transform_coords(('a3', 'a4'), graph=graph).group('a3', 'a4')\n",
    "angle_groups = [grouped['a3', a3]['a4', 0].group('event_time_zero') for a3 in grouped.coords['a3']]"
   ]
  },
  {
   "cell_type": "code",
   "execution_count": null,
   "id": "8",
   "metadata": {},
   "outputs": [],
   "source": [
    "sp = BIFROSTQCutStreamProcessor(workflow)"
   ]
  },
  {
   "cell_type": "code",
   "execution_count": null,
   "id": "9",
   "metadata": {},
   "outputs": [],
   "source": [
    "times = []\n",
    "for group in angle_groups:\n",
    "    step_angles = sc.DataGroup(a3=sc.DataArray(group.coords['a3']), a4=sc.DataArray(group.coords['a4']))\n",
    "    events = group.drop_coords(['a3', 'a4'])  # NeXusData does not have these coords\n",
    "\n",
    "    start = time.time()\n",
    "    sp.set_context({InstrumentAngles[SampleRun]: step_angles})\n",
    "    sp.accumulate({NeXusData[snx.NXdetector, SampleRun]: events})\n",
    "    end = time.time()\n",
    "    times.append(end - start)\n",
    "\n",
    "print(f\"Sum: {sum(times):.3f}s  Mean: {sum(times) / len(times):.3f}s [{min(times):.3f}s, {max(times):.3f}s]\")"
   ]
  },
  {
   "cell_type": "code",
   "execution_count": null,
   "id": "10",
   "metadata": {},
   "outputs": [],
   "source": [
    "plt.plot(times)"
   ]
  },
  {
   "cell_type": "code",
   "execution_count": null,
   "id": "11",
   "metadata": {},
   "outputs": [],
   "source": [
    "results = sp.finalize()\n",
    "data = results[CutData[SampleRun]]"
   ]
  },
  {
   "cell_type": "code",
   "execution_count": null,
   "id": "12",
   "metadata": {},
   "outputs": [],
   "source": [
    "data"
   ]
  },
  {
   "cell_type": "code",
   "execution_count": null,
   "id": "13",
   "metadata": {},
   "outputs": [],
   "source": [
    "data.plot(norm='log')"
   ]
  }
 ],
 "metadata": {
  "kernelspec": {
   "display_name": "Python 3",
   "language": "python",
   "name": "python3"
  },
  "language_info": {
   "codemirror_mode": {
    "name": "ipython",
    "version": 2
   },
   "file_extension": ".py",
   "mimetype": "text/x-python",
   "name": "python",
   "nbconvert_exporter": "python",
   "pygments_lexer": "ipython2",
   "version": "2.7.6"
  }
 },
 "nbformat": 4,
 "nbformat_minor": 5
}
