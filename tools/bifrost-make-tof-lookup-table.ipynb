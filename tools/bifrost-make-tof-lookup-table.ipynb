{
 "cells": [
  {
   "metadata": {},
   "cell_type": "markdown",
   "source": "# Create a time-of-flight lookup table for BIFROST",
   "id": "27e8c3bb0ec1c3e7"
  },
  {
   "metadata": {},
   "cell_type": "code",
   "source": [
    "from ess.reduce import time_of_flight\n",
    "import sciline\n",
    "import scipp as sc\n",
    "from scippneutron.chopper import DiskChopper\n",
    "from ess.spectroscopy.indirect.workflow import load_everything\n",
    "from ess.bifrost.data import simulated_elastic_incoherent_with_phonon"
   ],
   "id": "a1d9f191c6591dc1",
   "outputs": [],
   "execution_count": null
  },
  {
   "metadata": {},
   "cell_type": "markdown",
   "source": "## Load data",
   "id": "cfe5a99d73c3ddf8"
  },
  {
   "metadata": {},
   "cell_type": "code",
   "source": [
    "input_filename = simulated_elastic_incoherent_with_phonon()\n",
    "sample, triplets, _, raw_choppers, monitors, _ = load_everything(input_filename)"
   ],
   "id": "4f97b015b4223693",
   "outputs": [],
   "execution_count": null
  },
  {
   "metadata": {},
   "cell_type": "code",
   "source": [
    "source_position = next(iter(triplets.values())).coords['source_position']\n",
    "sample_position = sample['position']"
   ],
   "id": "36d2823679d3b364",
   "outputs": [],
   "execution_count": null
  },
  {
   "metadata": {},
   "cell_type": "markdown",
   "source": "## Process choppers",
   "id": "5ba2d3ee26e1bbc9"
  },
  {
   "metadata": {},
   "cell_type": "code",
   "source": [
    "def parse_choppers(raw_choppers, source_position):\n",
    "    choppers = sc.DataGroup()\n",
    "    for name, chopper in raw_choppers.items():\n",
    "        processed = chopper.copy()\n",
    "        # These are constant in the simulated data.\n",
    "        processed['rotation_speed'] = processed['rotation_speed'].data.mean()\n",
    "        processed['phase'] = processed['phase'].data.mean()\n",
    "        # Guessing here as this is not stored in the file.\n",
    "        processed['beam_position'] = sc.scalar(0.0, unit='deg')\n",
    "        # ess.reduce.time_of_flight.simulate_beamline requires the\n",
    "        # positions to be relative to the source.\n",
    "        processed['position'] = chopper['position'] - source_position\n",
    "        choppers[name] = DiskChopper.from_nexus(processed)\n",
    "    return choppers"
   ],
   "id": "1a4b39813c5e42bf",
   "outputs": [],
   "execution_count": null
  },
  {
   "metadata": {},
   "cell_type": "code",
   "source": "choppers = parse_choppers(raw_choppers, source_position)",
   "id": "ba75aa5f37de788a",
   "outputs": [],
   "execution_count": null
  },
  {
   "metadata": {},
   "cell_type": "markdown",
   "source": "## Setting up the workflow",
   "id": "6d4fcd7f9e6dd0ee"
  },
  {
   "metadata": {},
   "cell_type": "markdown",
   "source": [
    "The table needs to cover the range of distances for both sample and monitor.\n",
    "Here, the shifts of 0.1m are arbitrarily chosen to make sure the table covers `l1` and `l_monitor`.\n",
    "We could probably save space by making 2 smaller tables for narrow ranges around `l1` and `l_monitor`, respectively."
   ],
   "id": "d7f394d7190beb5c"
  },
  {
   "metadata": {},
   "cell_type": "code",
   "source": [
    "norm_monitor = monitors['110_frame_3']\n",
    "l_monitor = sc.norm(source_position - norm_monitor.coords['position'])\n",
    "l1 = sc.norm(source_position - sample_position)\n",
    "l_min = l_monitor - sc.scalar(0.1, unit='m')\n",
    "l_max = l1 + sc.scalar(0.1, unit='m')"
   ],
   "id": "c5abcaeda08be071",
   "outputs": [],
   "execution_count": null
  },
  {
   "metadata": {},
   "cell_type": "code",
   "source": [
    "simulation_results = time_of_flight.simulate_beamline(\n",
    "    choppers=choppers, neutrons=5_000_000\n",
    ")"
   ],
   "id": "afbad3941fc86505",
   "outputs": [],
   "execution_count": null
  },
  {
   "metadata": {},
   "cell_type": "code",
   "source": [
    "wf = sciline.Pipeline(\n",
    "    time_of_flight.providers(),\n",
    "    params={\n",
    "        **time_of_flight.default_parameters(),\n",
    "        time_of_flight.LtotalRange: (l_min, l_max),\n",
    "        time_of_flight.SimulationResults: simulation_results,\n",
    "        time_of_flight.DistanceResolution: sc.scalar(0.1, unit='m'),\n",
    "    },\n",
    ")"
   ],
   "id": "31ab97976486dcf4",
   "outputs": [],
   "execution_count": null
  },
  {
   "metadata": {},
   "cell_type": "markdown",
   "source": "## Compute the table",
   "id": "a1ddd3a8beb8cffb"
  },
  {
   "metadata": {},
   "cell_type": "code",
   "source": [
    "table = wf.compute(time_of_flight.TimeOfFlightLookupTable)\n",
    "table"
   ],
   "id": "6cb6cbcf17da6a8",
   "outputs": [],
   "execution_count": null
  },
  {
   "metadata": {},
   "cell_type": "code",
   "source": "table.squeeze().plot()",
   "id": "abdf5132aada2a95",
   "outputs": [],
   "execution_count": null
  },
  {
   "metadata": {},
   "cell_type": "markdown",
   "source": "## Save to file",
   "id": "b8eecb5535b4fbdb"
  },
  {
   "metadata": {},
   "cell_type": "code",
   "source": "table.save_hdf5('BIFROST-simulation-tof-lookup-table.h5')",
   "id": "574759a738312e1",
   "outputs": [],
   "execution_count": null
  }
 ],
 "metadata": {
  "kernelspec": {
   "display_name": "Python 3",
   "language": "python",
   "name": "python3"
  },
  "language_info": {
   "codemirror_mode": {
    "name": "ipython",
    "version": 2
   },
   "file_extension": ".py",
   "mimetype": "text/x-python",
   "name": "python",
   "nbconvert_exporter": "python",
   "pygments_lexer": "ipython2",
   "version": "2.7.6"
  }
 },
 "nbformat": 4,
 "nbformat_minor": 5
}
