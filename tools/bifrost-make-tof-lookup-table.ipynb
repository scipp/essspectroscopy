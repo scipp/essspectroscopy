{
 "cells": [
  {
   "cell_type": "markdown",
   "id": "0",
   "metadata": {},
   "source": [
    "# Create a time-of-flight lookup table for BIFROST"
   ]
  },
  {
   "cell_type": "code",
   "execution_count": null,
   "id": "1",
   "metadata": {},
   "outputs": [],
   "source": [
    "from ess.reduce import time_of_flight\n",
    "import sciline\n",
    "import scipp as sc\n",
    "from scippneutron.chopper import DiskChopper\n",
    "from ess.spectroscopy.indirect.workflow import load_everything\n",
    "from ess.bifrost.data import simulated_elastic_incoherent_with_phonon"
   ]
  },
  {
   "cell_type": "markdown",
   "id": "2",
   "metadata": {},
   "source": [
    "## Load data"
   ]
  },
  {
   "cell_type": "code",
   "execution_count": null,
   "id": "3",
   "metadata": {},
   "outputs": [],
   "source": [
    "input_filename = simulated_elastic_incoherent_with_phonon()\n",
    "sample, triplets, _, raw_choppers, monitors, _ = load_everything(input_filename)"
   ]
  },
  {
   "cell_type": "code",
   "execution_count": null,
   "id": "4",
   "metadata": {},
   "outputs": [],
   "source": [
    "source_position = next(iter(triplets.values())).coords['source_position']\n",
    "sample_position = sample['position']"
   ]
  },
  {
   "cell_type": "markdown",
   "id": "5",
   "metadata": {},
   "source": [
    "## Process choppers"
   ]
  },
  {
   "cell_type": "code",
   "execution_count": null,
   "id": "6",
   "metadata": {},
   "outputs": [],
   "source": [
    "def parse_choppers(raw_choppers, source_position):\n",
    "    choppers = sc.DataGroup()\n",
    "    for name, chopper in raw_choppers.items():\n",
    "        processed = chopper.copy()\n",
    "        # These are constant in the simulated data.\n",
    "        processed['rotation_speed'] = processed['rotation_speed'].data.mean()\n",
    "        processed['phase'] = processed['phase'].data.mean()\n",
    "        # Guessing here as this is not stored in the file.\n",
    "        processed['beam_position'] = sc.scalar(0.0, unit='deg')\n",
    "        # ess.reduce.time_of_flight.simulate_beamline requires the\n",
    "        # positions to be relative to the source.\n",
    "        processed['position'] = chopper['position'] - source_position\n",
    "        choppers[name] = DiskChopper.from_nexus(processed)\n",
    "    return choppers"
   ]
  },
  {
   "cell_type": "code",
   "execution_count": null,
   "id": "7",
   "metadata": {},
   "outputs": [],
   "source": [
    "choppers = parse_choppers(raw_choppers, source_position)"
   ]
  },
  {
   "cell_type": "markdown",
   "id": "8",
   "metadata": {},
   "source": [
    "## Setting up the workflow"
   ]
  },
  {
   "cell_type": "markdown",
   "id": "9",
   "metadata": {},
   "source": [
    "The table needs to cover the range of distances for both sample and monitor.\n",
    "Here, the shifts of 0.1m are arbitrarily chosen to make sure the table covers `l1` and `l_monitor`."
   ]
  },
  {
   "cell_type": "code",
   "execution_count": null,
   "id": "10",
   "metadata": {},
   "outputs": [],
   "source": [
    "norm_monitor = monitors['110_frame_3']\n",
    "l_monitor = sc.norm(source_position - norm_monitor.coords['position'])\n",
    "l1 = sc.norm(source_position - sample_position)\n",
    "l_min = l_monitor - sc.scalar(0.1, unit='m')\n",
    "l_max = l1 + sc.scalar(0.1, unit='m')"
   ]
  },
  {
   "cell_type": "code",
   "execution_count": null,
   "id": "11",
   "metadata": {},
   "outputs": [],
   "source": [
    "simulation_results = time_of_flight.simulate_beamline(\n",
    "    choppers=choppers, neutrons=5_000_000\n",
    ")"
   ]
  },
  {
   "cell_type": "code",
   "execution_count": null,
   "id": "12",
   "metadata": {},
   "outputs": [],
   "source": [
    "wf = sciline.Pipeline(\n",
    "    time_of_flight.providers(),\n",
    "    params={\n",
    "        **time_of_flight.default_parameters(),\n",
    "        time_of_flight.LtotalRange: (l_min, l_max),\n",
    "        time_of_flight.SimulationResults: simulation_results,\n",
    "        time_of_flight.DistanceResolution: sc.scalar(0.1, unit='m'),\n",
    "    },\n",
    ")"
   ]
  },
  {
   "cell_type": "markdown",
   "id": "13",
   "metadata": {},
   "source": [
    "## Compute the table"
   ]
  },
  {
   "cell_type": "code",
   "execution_count": null,
   "id": "14",
   "metadata": {},
   "outputs": [],
   "source": [
    "table = wf.compute(time_of_flight.TimeOfFlightLookupTable)\n",
    "table"
   ]
  },
  {
   "cell_type": "code",
   "execution_count": null,
   "id": "15",
   "metadata": {},
   "outputs": [],
   "source": [
    "table.squeeze().plot()"
   ]
  },
  {
   "cell_type": "markdown",
   "id": "16",
   "metadata": {},
   "source": [
    "## Save to file"
   ]
  },
  {
   "cell_type": "code",
   "execution_count": null,
   "id": "17",
   "metadata": {},
   "outputs": [],
   "source": [
    "table.save_hdf5('BIFROST-simulation-tof-lookup-table.h5')"
   ]
  }
 ],
 "metadata": {
  "kernelspec": {
   "display_name": "Python 3",
   "language": "python",
   "name": "python3"
  },
  "language_info": {
   "codemirror_mode": {
    "name": "ipython",
    "version": 2
   },
   "file_extension": ".py",
   "mimetype": "text/x-python",
   "name": "python",
   "nbconvert_exporter": "python",
   "pygments_lexer": "ipython2",
   "version": "2.7.6"
  }
 },
 "nbformat": 4,
 "nbformat_minor": 5
}
