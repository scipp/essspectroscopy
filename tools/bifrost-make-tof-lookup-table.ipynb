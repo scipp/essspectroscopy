{
 "cells": [
  {
   "cell_type": "markdown",
   "id": "0",
   "metadata": {},
   "source": [
    "# Create a time-of-flight lookup table for BIFROST"
   ]
  },
  {
   "cell_type": "code",
   "execution_count": null,
   "id": "1",
   "metadata": {},
   "outputs": [],
   "source": [
    "from ess.reduce import time_of_flight, nexus\n",
    "import sciline\n",
    "import scipp as sc\n",
    "import scippnexus as snx\n",
    "from scippneutron.chopper import DiskChopper\n",
    "\n",
    "from ess.bifrost import BifrostSimulationWorkflow\n",
    "from ess.bifrost.data import simulated_elastic_incoherent_with_phonon\n",
    "from ess.spectroscopy.types import *\n",
    "from ess.bifrost.types import *"
   ]
  },
  {
   "cell_type": "markdown",
   "id": "2",
   "metadata": {},
   "source": [
    "## Load data"
   ]
  },
  {
   "cell_type": "code",
   "execution_count": null,
   "id": "3",
   "metadata": {},
   "outputs": [],
   "source": [
    "loader = BifrostSimulationWorkflow(detector_names=['_'])\n",
    "loader[Filename[SampleRun]] = simulated_elastic_incoherent_with_phonon()"
   ]
  },
  {
   "cell_type": "code",
   "execution_count": null,
   "id": "4",
   "metadata": {},
   "outputs": [],
   "source": [
    "data = loader.compute([\n",
    "    Position[snx.NXsource, SampleRun],\n",
    "    Position[snx.NXsample, SampleRun],\n",
    "    nexus.types.Choppers[SampleRun],\n",
    "    nexus.types.CalibratedMonitor[SampleRun, FrameMonitor3],\n",
    "])\n",
    "source_position = data[Position[snx.NXsource, SampleRun]]\n",
    "sample_position = data[Position[snx.NXsample, SampleRun]]\n",
    "raw_choppers = data[nexus.types.Choppers[SampleRun]]\n",
    "monitor = data[nexus.types.CalibratedMonitor[SampleRun, FrameMonitor3]]"
   ]
  },
  {
   "cell_type": "markdown",
   "id": "5",
   "metadata": {},
   "source": [
    "## Process choppers"
   ]
  },
  {
   "cell_type": "code",
   "execution_count": null,
   "id": "6",
   "metadata": {},
   "outputs": [],
   "source": [
    "def parse_choppers(raw_choppers):\n",
    "    choppers = sc.DataGroup()\n",
    "    for name, chopper in raw_choppers.items():\n",
    "        processed = chopper.copy()\n",
    "        # These are constant in the simulated data.\n",
    "        processed['rotation_speed'] = processed['rotation_speed'].data.mean()\n",
    "        processed['phase'] = processed['phase'].data.mean()\n",
    "        # Guessing here as this is not stored in the file.\n",
    "        processed['beam_position'] = sc.scalar(0.0, unit='deg')\n",
    "        choppers[name] = DiskChopper.from_nexus(processed)\n",
    "    return choppers"
   ]
  },
  {
   "cell_type": "code",
   "execution_count": null,
   "id": "7",
   "metadata": {},
   "outputs": [],
   "source": [
    "choppers = parse_choppers(raw_choppers)"
   ]
  },
  {
   "cell_type": "markdown",
   "id": "8",
   "metadata": {},
   "source": [
    "## Setting up the workflow"
   ]
  },
  {
   "cell_type": "markdown",
   "id": "9",
   "metadata": {},
   "source": [
    "The table needs to cover the range of distances for both sample and monitor.\n",
    "Here, the shifts of 0.1m are arbitrarily chosen to make sure the table covers `l1` and `l_monitor`."
   ]
  },
  {
   "cell_type": "code",
   "execution_count": null,
   "id": "10",
   "metadata": {},
   "outputs": [],
   "source": [
    "l_monitor = sc.norm(source_position - monitor.coords['position'])\n",
    "l1 = sc.norm(source_position - sample_position)\n",
    "l_min = l_monitor - sc.scalar(0.1, unit='m')\n",
    "l_max = l1 + sc.scalar(0.1, unit='m')"
   ]
  },
  {
   "cell_type": "code",
   "execution_count": null,
   "id": "11",
   "metadata": {},
   "outputs": [],
   "source": [
    "simulation_results = time_of_flight.simulate_beamline(\n",
    "    choppers=choppers, neutrons=5_000_000, source_position=source_position,\n",
    ")"
   ]
  },
  {
   "cell_type": "code",
   "execution_count": null,
   "id": "12",
   "metadata": {},
   "outputs": [],
   "source": [
    "wf = sciline.Pipeline(\n",
    "    time_of_flight.providers(),\n",
    "    params={\n",
    "        **time_of_flight.default_parameters(),\n",
    "        time_of_flight.LtotalRange: (l_min, l_max),\n",
    "        time_of_flight.SimulationResults: simulation_results,\n",
    "        time_of_flight.DistanceResolution: sc.scalar(0.1, unit='m'),\n",
    "    },\n",
    ")"
   ]
  },
  {
   "cell_type": "markdown",
   "id": "13",
   "metadata": {},
   "source": [
    "## Compute the table"
   ]
  },
  {
   "cell_type": "code",
   "execution_count": null,
   "id": "14",
   "metadata": {},
   "outputs": [],
   "source": [
    "table = wf.compute(time_of_flight.TimeOfFlightLookupTable)\n",
    "table"
   ]
  },
  {
   "cell_type": "code",
   "execution_count": null,
   "id": "15",
   "metadata": {},
   "outputs": [],
   "source": [
    "table.squeeze().plot()"
   ]
  },
  {
   "cell_type": "markdown",
   "id": "16",
   "metadata": {},
   "source": [
    "## Save to file"
   ]
  },
  {
   "cell_type": "code",
   "execution_count": null,
   "id": "17",
   "metadata": {},
   "outputs": [],
   "source": [
    "table.save_hdf5('BIFROST-simulation-tof-lookup-table.h5')"
   ]
  }
 ],
 "metadata": {
  "kernelspec": {
   "display_name": "Python 3",
   "language": "python",
   "name": "python3"
  },
  "language_info": {
   "codemirror_mode": {
    "name": "ipython",
    "version": 2
   },
   "file_extension": ".py",
   "mimetype": "text/x-python",
   "name": "python",
   "nbconvert_exporter": "python",
   "pygments_lexer": "ipython2",
   "version": "2.7.6"
  }
 },
 "nbformat": 4,
 "nbformat_minor": 5
}
