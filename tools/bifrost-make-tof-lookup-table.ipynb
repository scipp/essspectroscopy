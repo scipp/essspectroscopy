{
 "cells": [
  {
   "cell_type": "markdown",
   "id": "0",
   "metadata": {},
   "source": [
    "# Create a time-of-flight lookup table for BIFROST"
   ]
  },
  {
   "cell_type": "code",
   "execution_count": null,
   "id": "1",
   "metadata": {},
   "outputs": [],
   "source": [
    "from ess.reduce import nexus\n",
    "import sciline\n",
    "import scipp as sc\n",
    "import scippnexus as snx\n",
    "from ess.reduce.nexus.types import  RawChoppers, DiskChoppers\n",
    "from ess.reduce.time_of_flight import TofLutProvider\n",
    "from ess.reduce.time_of_flight.types import *\n",
    "from scippneutron.chopper import DiskChopper\n",
    "\n",
    "from ess.bifrost import BifrostSimulationWorkflow\n",
    "from ess.bifrost.data import simulated_elastic_incoherent_with_phonon\n",
    "from ess.bifrost.types import *\n",
    "from ess.spectroscopy.types import *"
   ]
  },
  {
   "cell_type": "markdown",
   "id": "2",
   "metadata": {},
   "source": [
    "## Prepare the workflow\n",
    "\n",
    "The choppers in the simulated file need to be processed before they can be used for computing a lookup table.\n",
    "The following functions work for the specific simulation but are *not* usable in general."
   ]
  },
  {
   "cell_type": "code",
   "execution_count": null,
   "id": "3",
   "metadata": {},
   "outputs": [],
   "source": [
    "def extract_chopper_plateau(chopper):\n",
    "    processed = chopper.copy()\n",
    "    # These are constant in the simulated data.\n",
    "    processed['rotation_speed'] = processed['rotation_speed'].data.mean()\n",
    "    processed['phase'] = processed['phase'].data.mean()\n",
    "    # Guessing here as this is not stored in the file.\n",
    "    processed['beam_position'] = sc.scalar(0.0, unit='deg')\n",
    "    return DiskChopper.from_nexus(processed)\n",
    "\n",
    "\n",
    "def extract_chopper_plateaus(choppers: RawChoppers[RunType]) -> DiskChoppers[RunType]:\n",
    "    return DiskChoppers[RunType](choppers.apply(extract_chopper_plateau))"
   ]
  },
  {
   "cell_type": "markdown",
   "id": "4",
   "metadata": {},
   "source": [
    "Construct the workflow.\n",
    "We only need the detector names for the geometry up to the sample, so choosing a single detector is enough."
   ]
  },
  {
   "cell_type": "code",
   "execution_count": null,
   "id": "5",
   "metadata": {},
   "outputs": [],
   "source": [
    "with snx.File(simulated_elastic_incoherent_with_phonon()) as f:\n",
    "    detector_names = list(f['entry/instrument'][snx.NXdetector])"
   ]
  },
  {
   "cell_type": "code",
   "execution_count": null,
   "id": "6",
   "metadata": {},
   "outputs": [],
   "source": [
    "workflow = BifrostSimulationWorkflow(detector_names=detector_names[:1],\n",
    "                                     tof_lut_provider=TofLutProvider.TOF)\n",
    "workflow.insert(extract_chopper_plateaus)\n",
    "workflow[Filename[SampleRun]] = simulated_elastic_incoherent_with_phonon()"
   ]
  },
  {
   "cell_type": "markdown",
   "id": "7",
   "metadata": {},
   "source": [
    "Compute the required distance range:"
   ]
  },
  {
   "cell_type": "code",
   "execution_count": null,
   "id": "8",
   "metadata": {},
   "outputs": [],
   "source": [
    "beamline = sciline.compute_mapped(workflow, BeamlineWithSpectrometerCoords[SampleRun])[0]\n",
    "monitor = workflow.compute(nexus.types.CalibratedMonitor[SampleRun, FrameMonitor3])"
   ]
  },
  {
   "cell_type": "code",
   "execution_count": null,
   "id": "9",
   "metadata": {},
   "outputs": [],
   "source": [
    "l_monitor = sc.norm(monitor.coords['source_position'] - monitor.coords['position'])\n",
    "l_min = l_monitor\n",
    "l_max = beamline.coords['L1']\n",
    "workflow[NumberOfSimulatedNeutrons] = 5_000_000\n",
    "workflow[L1Range] = (l_min, l_max)"
   ]
  },
  {
   "cell_type": "markdown",
   "id": "10",
   "metadata": {},
   "source": [
    "## Compute the lookup table"
   ]
  },
  {
   "cell_type": "code",
   "execution_count": null,
   "id": "11",
   "metadata": {},
   "outputs": [],
   "source": [
    "workflow.visualize(TimeOfFlightLookupTable, graph_attr={\"rankdir\": \"LR\"})"
   ]
  },
  {
   "cell_type": "code",
   "execution_count": null,
   "id": "12",
   "metadata": {},
   "outputs": [],
   "source": [
    "table = workflow.compute(TimeOfFlightLookupTable)\n",
    "table"
   ]
  },
  {
   "cell_type": "code",
   "execution_count": null,
   "id": "13",
   "metadata": {},
   "outputs": [],
   "source": [
    "table.squeeze().plot()"
   ]
  },
  {
   "cell_type": "markdown",
   "id": "14",
   "metadata": {},
   "source": [
    "## Save to file"
   ]
  },
  {
   "cell_type": "code",
   "execution_count": null,
   "id": "15",
   "metadata": {},
   "outputs": [],
   "source": [
    "table.save_hdf5('BIFROST-simulation-tof-lookup-table.h5')"
   ]
  }
 ],
 "metadata": {
  "kernelspec": {
   "display_name": "Python 3",
   "language": "python",
   "name": "python3"
  },
  "language_info": {
   "codemirror_mode": {
    "name": "ipython",
    "version": 2
   },
   "file_extension": ".py",
   "mimetype": "text/x-python",
   "name": "python",
   "nbconvert_exporter": "python",
   "pygments_lexer": "ipython2",
   "version": "2.7.6"
  }
 },
 "nbformat": 4,
 "nbformat_minor": 5
}
