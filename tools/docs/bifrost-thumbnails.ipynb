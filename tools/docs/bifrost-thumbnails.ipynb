{
 "cells": [
  {
   "cell_type": "markdown",
   "id": "0",
   "metadata": {},
   "source": [
    "# BIFROST thumbnails\n",
    "\n",
    "This notebook generates the thumbnails used in the BIFROST user guide."
   ]
  },
  {
   "cell_type": "code",
   "execution_count": null,
   "id": "1",
   "metadata": {
    "jupyter": {
     "is_executing": true
    }
   },
   "outputs": [],
   "source": [
    "import matplotlib.pyplot as plt\n",
    "import scipp as sc\n",
    "import sciline\n",
    "import scippnexus as snx\n",
    "\n",
    "from ess import bifrost\n",
    "from ess.bifrost.data import (\n",
    "    simulated_elastic_incoherent_with_phonon,\n",
    "    tof_lookup_table_simulation\n",
    ")\n",
    "from ess.spectroscopy.types import *"
   ]
  },
  {
   "cell_type": "code",
   "execution_count": null,
   "id": "2",
   "metadata": {},
   "outputs": [],
   "source": [
    "with snx.File(simulated_elastic_incoherent_with_phonon()) as f:\n",
    "    detector_names = list(f['entry/instrument'][snx.NXdetector])"
   ]
  },
  {
   "cell_type": "code",
   "execution_count": null,
   "id": "3",
   "metadata": {},
   "outputs": [],
   "source": [
    "workflow = bifrost.BifrostSimulationWorkflow(detector_names)\n",
    "workflow[Filename[SampleRun]] = simulated_elastic_incoherent_with_phonon()\n",
    "workflow[TimeOfFlightLookupTable] = sc.io.load_hdf5(tof_lookup_table_simulation())\n",
    "workflow[PreopenNeXusFile] = PreopenNeXusFile(True)"
   ]
  },
  {
   "cell_type": "code",
   "execution_count": null,
   "id": "4",
   "metadata": {},
   "outputs": [],
   "source": [
    "scheduler = sciline.scheduler.NaiveScheduler()\n",
    "data = workflow.compute(EnergyData[SampleRun], scheduler=scheduler)"
   ]
  },
  {
   "cell_type": "code",
   "execution_count": null,
   "id": "5",
   "metadata": {},
   "outputs": [],
   "source": [
    "def qx_qz_plot(style: str):\n",
    "    with plt.style.context(style):\n",
    "        fig, ax = plt.subplots(layout='constrained', figsize=(3, 2.5))\n",
    "        d = data['a4', 0].bins.concat().copy()\n",
    "        x = sc.vector([1, 0, 0])\n",
    "        z = sc.vector([0, 0, 1])\n",
    "        d.bins.coords['Qx'] = sc.dot(x, d.bins.coords['sample_table_momentum_transfer'])\n",
    "        d.bins.coords['Qz'] = sc.dot(z, d.bins.coords['sample_table_momentum_transfer'])\n",
    "        d.hist(Qz=100, Qx=100).plot(ax=ax)\n",
    "        ax.set_xlabel('$Q_x$ [1/Å]')\n",
    "        ax.set_ylabel('$Q_z$ [1/Å]')\n",
    "        fig.axes[-1].set_ylabel(None)\n",
    "    return fig"
   ]
  },
  {
   "cell_type": "code",
   "execution_count": null,
   "id": "6",
   "metadata": {},
   "outputs": [],
   "source": [
    "fig = qx_qz_plot('default')\n",
    "fig.savefig(\n",
    "    \"../../docs/_static/thumbnails/bifrost_reduction_light.svg\",\n",
    "    transparent=True,\n",
    ")\n",
    "fig"
   ]
  },
  {
   "cell_type": "code",
   "execution_count": null,
   "id": "7",
   "metadata": {},
   "outputs": [],
   "source": [
    "fig = qx_qz_plot('dark_background')\n",
    "fig.savefig(\n",
    "    \"../../docs/_static/thumbnails/bifrost_reduction_dark.svg\",\n",
    "    transparent=True,\n",
    ")\n",
    "fig"
   ]
  }
 ],
 "metadata": {
  "kernelspec": {
   "display_name": "Python 3 (ipykernel)",
   "language": "python",
   "name": "python3"
  },
  "language_info": {
   "codemirror_mode": {
    "name": "ipython",
    "version": 3
   },
   "file_extension": ".py",
   "mimetype": "text/x-python",
   "name": "python",
   "nbconvert_exporter": "python",
   "pygments_lexer": "ipython3",
   "version": "3.11.10"
  }
 },
 "nbformat": 4,
 "nbformat_minor": 5
}
